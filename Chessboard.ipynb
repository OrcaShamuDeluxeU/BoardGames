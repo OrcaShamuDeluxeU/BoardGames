{
  "nbformat": 4,
  "nbformat_minor": 0,
  "metadata": {
    "colab": {
      "name": "Chessboard",
      "provenance": [],
      "authorship_tag": "ABX9TyPZ1w4u2/0LLNtEkWR2gy6u",
      "include_colab_link": true
    },
    "kernelspec": {
      "name": "python3",
      "display_name": "Python 3"
    }
  },
  "cells": [
    {
      "cell_type": "markdown",
      "metadata": {
        "id": "view-in-github",
        "colab_type": "text"
      },
      "source": [
        "<a href=\"https://colab.research.google.com/github/OrcaShamuDeluxeU/BoardGames/blob/main/Chessboard.ipynb\" target=\"_parent\"><img src=\"https://colab.research.google.com/assets/colab-badge.svg\" alt=\"Open In Colab\"/></a>"
      ]
    },
    {
      "cell_type": "code",
      "metadata": {
        "id": "k4l_NmSFEdht"
      },
      "source": [
        "chessboard = [[],[],[]]\n",
        "chesslen = len(chessboard[0])\n",
        "\"\"\"piece = [type_,team,x,y,number]\"\"\"\n",
        "# Suggest to change: Piece = namedtuple('Piece',['type','team','loc_x', 'loc_y'])   \n",
        "\n",
        "\n",
        "def possible_move(board, piece):\n",
        "  \"\"\"inputs board and piece\n",
        "  Args:\n",
        "    board: List of lists\n",
        "    piece: list, Look above\n",
        "  Returns:    \n",
        "     list of all possible moves, 1,2\"\"\"\n",
        "  possible_moves= []\n",
        "  if piece[0] == \"Pawn\" and piece[1] == \"Black\" and piece[3] + 1 < chesslen:\n",
        "    possible_moves.append(piece[2],piece[3]+1)\n",
        "    \"\"\"if the x is above the chessboard limit this makes it so that the possible list moves doesnt append it\"\"\"\n",
        "    if piece[2] + 1 < chesslen and piece[2] -1 > 0:\n",
        "      if board[piece[2]+1][piece[3]+1][1] == \"White\":\n",
        "        possible_moves.append(piece[2+1],piece[3]+1)\n",
        "      if board[piece[2]+1][piece[3]+1][1] == \"White\":\n",
        "        possible_moves.append(piece[2-1],piece[3]+1)\n",
        "    \"\"\"This does the same as above but on the Y axis, the pawn can go up one and to the right or left if capturing this what that does.\"\"\"\n",
        "    if piece[1] == \"White\" and piece[3] - 1 > 0:\n",
        "        possible_moves.append(piece[2],piece[3]-1)\n",
        "        \"\"\" same as above but now with white, and so the capture is the same.\"\"\"\n",
        "        if piece[2] + 1 < chesslen and piece[2] -1 > 0:\n",
        "          if board[piece[2]+1][piece[3]+1][1] == \"Black\":\n",
        "            possible_moves.append(piece[2+1],piece[3]+1)\n",
        "          if board[piece[2]+1][piece[3]+1][1] == \"Black\":\n",
        "            possible_moves.append(piece[2-1],piece[3]+1)\n",
        "\n",
        "def board_update(board,piece):\n",
        "  \"\"\"inputs piece board and coordinates\n",
        "  Args:\n",
        "    board: List of lists\n",
        "    piece: list, Look above\n",
        "  Outputs board with piece moved to coordinates\"\"\"\n",
        "  output_list = []\n",
        "  \"moves piece to xy\"\n",
        "  return output_list\n",
        "while True:\n",
        "  \n",
        "  break"
      ],
      "execution_count": null,
      "outputs": []
    }
  ]
}