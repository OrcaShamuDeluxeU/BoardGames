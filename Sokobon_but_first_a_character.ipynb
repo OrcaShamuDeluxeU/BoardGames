{
  "nbformat": 4,
  "nbformat_minor": 0,
  "metadata": {
    "colab": {
      "name": "Sokobon but first a character",
      "provenance": [],
      "collapsed_sections": [],
      "authorship_tag": "ABX9TyOSFEfKxB5F/eCwZ+ZM2HCc",
      "include_colab_link": true
    },
    "kernelspec": {
      "name": "python3",
      "display_name": "Python 3"
    }
  },
  "cells": [
    {
      "cell_type": "markdown",
      "metadata": {
        "id": "view-in-github",
        "colab_type": "text"
      },
      "source": [
        "<a href=\"https://colab.research.google.com/github/OrcaShamuDeluxeU/BoardGames/blob/main/Sokobon_but_first_a_character.ipynb\" target=\"_parent\"><img src=\"https://colab.research.google.com/assets/colab-badge.svg\" alt=\"Open In Colab\"/></a>"
      ]
    },
    {
      "cell_type": "code",
      "metadata": {
        "id": "pl8TpErZnoMm",
        "colab": {
          "base_uri": "https://localhost:8080/"
        },
        "outputId": "42534232-935a-416b-9f29-deb65c4ce82b"
      },
      "source": [
        "class board:\r\n",
        "  def __init__(self,width,height,diff):\r\n",
        "    self.width = width\r\n",
        "    self.height = height\r\n",
        "    if diff < width-1 and diff < height-1:\r\n",
        "      self.currx = 0+diff\r\n",
        "      self.curry = 0+diff\r\n",
        "    else:\r\n",
        "      self.currx = 0\r\n",
        "      self.curry = 0\r\n",
        "    self.board = []\r\n",
        "    #Difficulty will be programmed into generate board\r\n",
        "  def generate_board(self):\r\n",
        "    for i in range(self.width):\r\n",
        "      row = []\r\n",
        "      for i in range(self.height):\r\n",
        "        row.append(None)\r\n",
        "      self.board.append(row)\r\n",
        "    self.spawn_player()\r\n",
        "  def spawn_player(self):\r\n",
        "    self.board[self.curry][self.currx] = \"Player\"\r\n",
        "  def move_player(self,direction):\r\n",
        "    directions = {\"Up\":[0,-1],\"Down\":[0,1],\"Right\":[-1,0],\"Left\":[1,0]}\r\n",
        "    self.board[self.curry+(directions[direction])[1]][self.currx+(directions[direction])[0]] = \"Player\"\r\n",
        "    self.board[self.curry][self.currx] = None\r\n",
        "  def display_board(self):\r\n",
        "    #add more here\r\n",
        "    CharMounts = {None:\"  \",\"Player\":\"⚫\"}\r\n",
        "    for row in self.board:\r\n",
        "      display_row = []\r\n",
        "      for i in row:\r\n",
        "        display_row.append(CharMounts[i])\r\n",
        "      print(display_row)\r\n",
        "        \r\n",
        "test1 = board(4,5,1)\r\n",
        "test1.generate_board()\r\n",
        "for i in range(5):\r\n",
        "  test1.display_board()\r\n",
        "  test1.move_player(input(\"up down left right caps\"))"
      ],
      "execution_count": null,
      "outputs": [
        {
          "output_type": "stream",
          "text": [
            "['  ', '  ', '  ', '  ', '  ']\n",
            "['  ', '⚫', '  ', '  ', '  ']\n",
            "['  ', '  ', '  ', '  ', '  ']\n",
            "['  ', '  ', '  ', '  ', '  ']\n",
            "up down left right capsUp\n",
            "['  ', '⚫', '  ', '  ', '  ']\n",
            "['  ', '  ', '  ', '  ', '  ']\n",
            "['  ', '  ', '  ', '  ', '  ']\n",
            "['  ', '  ', '  ', '  ', '  ']\n"
          ],
          "name": "stdout"
        }
      ]
    }
  ]
}